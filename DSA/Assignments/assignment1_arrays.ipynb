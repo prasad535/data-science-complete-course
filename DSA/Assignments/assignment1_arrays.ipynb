{
 "cells": [
  {
   "cell_type": "markdown",
   "metadata": {},
   "source": [
    "### 1. Given an array, check if it contains any duplicates or not.\n",
    "##### arr = [1, 2, 4, 2, 5, 9]\n",
    "##### Output = True"
   ]
  },
  {
   "cell_type": "code",
   "execution_count": 10,
   "metadata": {},
   "outputs": [
    {
     "name": "stdout",
     "output_type": "stream",
     "text": [
      "True\n"
     ]
    }
   ],
   "source": [
    "# Method defination\n",
    "\n",
    "def duplicateCheck(arr):\n",
    "    try:\n",
    "        isduplicate = False\n",
    "        for i in arr:\n",
    "            if not isduplicate and arr.count(i) <=1:\n",
    "                continue\n",
    "            else:\n",
    "                isduplicate = True\n",
    "                break\n",
    "        return isduplicate\n",
    "    except Exception as e:\n",
    "        print(e)\n",
    "\n",
    "# Driver code\n",
    "arr = [1,2,4,2,5,9]\n",
    "result = duplicateCheck(arr)\n",
    "print(result)"
   ]
  },
  {
   "cell_type": "markdown",
   "metadata": {},
   "source": [
    "### 2. Given an array and an integer k, rotate the array to the right by k steps.\n",
    "##### arr = [1, 2, 3, 4, 5, 6, 7] k = 3\n",
    "##### Output = [5, 6, 7, 1, 2, 3, 4]"
   ]
  },
  {
   "cell_type": "code",
   "execution_count": 20,
   "metadata": {},
   "outputs": [
    {
     "name": "stdout",
     "output_type": "stream",
     "text": [
      "[5, 6, 7, 1, 2, 3, 4]\n"
     ]
    }
   ],
   "source": [
    "# Method defination\n",
    "\n",
    "def rotateRight(arr, k):\n",
    "    for i in range(len(arr)):\n",
    "        if k!=0:\n",
    "            item = arr.pop(-1)\n",
    "            arr.insert(0, item)\n",
    "            k-=1\n",
    "\n",
    "    return arr\n",
    "\n",
    "# Driver code\n",
    "arr = [1, 2, 3, 4, 5, 6, 7]\n",
    "k = 3\n",
    "result = rotateRight(arr, k)\n",
    "print(result)"
   ]
  },
  {
   "cell_type": "markdown",
   "metadata": {},
   "source": [
    "### 3. Reverse the given array in-place, means without using any extra data structure.\n",
    "##### arr = [2, 4, 5, 7, 9, 12]\n",
    "##### Output = [12, 9, 7, 5, 4, 2]"
   ]
  },
  {
   "cell_type": "code",
   "execution_count": 29,
   "metadata": {},
   "outputs": [
    {
     "name": "stdout",
     "output_type": "stream",
     "text": [
      "[12, 9, 7, 5, 4, 2]\n"
     ]
    }
   ],
   "source": [
    "# Method defination\n",
    "def reverseArray(arr):\n",
    "    for i in range(int(len(arr)/2)):\n",
    "        arr[i], arr[len(arr)-i-1] = arr[len(arr)-i-1], arr[i]\n",
    "    \n",
    "    return arr\n",
    "\n",
    "# Driver code\n",
    "arr = [2, 4, 5, 7, 9, 12]\n",
    "result = reverseArray(arr)\n",
    "print(result)"
   ]
  },
  {
   "cell_type": "markdown",
   "metadata": {},
   "source": [
    "### 4. Given an array of integers, find the maximum element in an array\n",
    "##### arr = [10, 5, 20, 8, 15]\n",
    "##### Output = 20"
   ]
  },
  {
   "cell_type": "code",
   "execution_count": 30,
   "metadata": {},
   "outputs": [
    {
     "name": "stdout",
     "output_type": "stream",
     "text": [
      "20\n"
     ]
    }
   ],
   "source": [
    "# Method defination\n",
    "def maxElement(arr):\n",
    "    maxValue = arr[0]\n",
    "    for i in arr:\n",
    "        if i > maxValue:\n",
    "            maxValue = i\n",
    "    return maxValue\n",
    "\n",
    "# Driver code\n",
    "arr = [10,5,20,8,15]\n",
    "result = maxElement(arr)\n",
    "print(result)"
   ]
  },
  {
   "cell_type": "markdown",
   "metadata": {},
   "source": [
    "### 5. Given a sorted array, remove the duplicate element without using any extra data structure.\n",
    "##### arr = [1, 1, 2, 2, 2, 3, 3, 4, 4, 4, 5, 5]\n",
    "##### Output = [1, 2, 3, 4, 5]"
   ]
  },
  {
   "cell_type": "code",
   "execution_count": 47,
   "metadata": {},
   "outputs": [
    {
     "name": "stdout",
     "output_type": "stream",
     "text": [
      "[1, 2, 3, 4, 5]\n"
     ]
    }
   ],
   "source": [
    "# Method defination\n",
    "\n",
    "def removeDuplicates(arr):\n",
    "    i = 0\n",
    "    j = 1 \n",
    "\n",
    "    while j < len(arr):\n",
    "        if arr[i] != arr[j]:\n",
    "            i += 1\n",
    "            arr[i] = arr[j]\n",
    "        j += 1\n",
    "\n",
    "    while len(arr) > i +1:\n",
    "        arr.pop()\n",
    "\n",
    "    return arr\n",
    "\n",
    "\n",
    "# Driver code\n",
    "arr = [1,1,2,2,2,3,3,4,4,4,5,5]\n",
    "result = removeDuplicates(arr)\n",
    "print(result)"
   ]
  },
  {
   "cell_type": "code",
   "execution_count": null,
   "metadata": {},
   "outputs": [],
   "source": []
  }
 ],
 "metadata": {
  "kernelspec": {
   "display_name": "Python 3.8.10 64-bit",
   "language": "python",
   "name": "python3"
  },
  "language_info": {
   "codemirror_mode": {
    "name": "ipython",
    "version": 3
   },
   "file_extension": ".py",
   "mimetype": "text/x-python",
   "name": "python",
   "nbconvert_exporter": "python",
   "pygments_lexer": "ipython3",
   "version": "3.8.10"
  },
  "orig_nbformat": 4,
  "vscode": {
   "interpreter": {
    "hash": "e7370f93d1d0cde622a1f8e1c04877d8463912d04d973331ad4851f04de6915a"
   }
  }
 },
 "nbformat": 4,
 "nbformat_minor": 2
}
